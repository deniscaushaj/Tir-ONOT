{
 "cells": [
  {
   "cell_type": "markdown",
   "metadata": {},
   "source": [
    "# Fetch Codebase and Models"
   ]
  },
  {
   "cell_type": "code",
   "execution_count": 27,
   "metadata": {},
   "outputs": [
    {
     "ename": "FileNotFoundError",
     "evalue": "[Errno 2] No such file or directory",
     "output_type": "error",
     "traceback": [
      "\u001b[0;31m---------------------------------------------------------------------------\u001b[0m",
      "\u001b[0;31mFileNotFoundError\u001b[0m                         Traceback (most recent call last)",
      "Cell \u001b[0;32mIn[27], line 3\u001b[0m\n\u001b[1;32m      1\u001b[0m \u001b[38;5;28;01mimport\u001b[39;00m \u001b[38;5;21;01mos\u001b[39;00m\n\u001b[0;32m----> 3\u001b[0m path \u001b[38;5;241m=\u001b[39m os\u001b[38;5;241m.\u001b[39mpath\u001b[38;5;241m.\u001b[39mjoin(os\u001b[38;5;241m.\u001b[39mgetcwd(), \u001b[38;5;124m'\u001b[39m\u001b[38;5;124mcontent\u001b[39m\u001b[38;5;124m'\u001b[39m)\n\u001b[1;32m      4\u001b[0m \u001b[38;5;28;01mif\u001b[39;00m \u001b[38;5;129;01mnot\u001b[39;00m os\u001b[38;5;241m.\u001b[39mpath\u001b[38;5;241m.\u001b[39mexists(path):\n\u001b[1;32m      5\u001b[0m     os\u001b[38;5;241m.\u001b[39mmkdir(path)\n",
      "\u001b[0;31mFileNotFoundError\u001b[0m: [Errno 2] No such file or directory"
     ]
    }
   ],
   "source": [
    "import os\n",
    "\n",
    "path = os.path.join(os.getcwd(), 'content')\n",
    "if not os.path.exists(path):\n",
    "    os.mkdir(path)\n",
    "os.chdir(path)"
   ]
  },
  {
   "cell_type": "code",
   "execution_count": 26,
   "metadata": {},
   "outputs": [
    {
     "name": "stdout",
     "output_type": "stream",
     "text": [
      "shell-init: error retrieving current directory: getcwd: cannot access parent directories: No such file or directory\n",
      "fatal: could not create work tree dir 'interfacegan': No such file or directory\n"
     ]
    },
    {
     "ename": "FileNotFoundError",
     "evalue": "[Errno 2] No such file or directory: './interfacegan'",
     "output_type": "error",
     "traceback": [
      "\u001b[0;31m---------------------------------------------------------------------------\u001b[0m",
      "\u001b[0;31mFileNotFoundError\u001b[0m                         Traceback (most recent call last)",
      "Cell \u001b[0;32mIn[26], line 3\u001b[0m\n\u001b[1;32m      1\u001b[0m CODE_DIR \u001b[38;5;241m=\u001b[39m \u001b[38;5;124m'\u001b[39m\u001b[38;5;124minterfacegan\u001b[39m\u001b[38;5;124m'\u001b[39m\n\u001b[1;32m      2\u001b[0m get_ipython()\u001b[38;5;241m.\u001b[39msystem(\u001b[38;5;124m'\u001b[39m\u001b[38;5;124mgit clone https://github.com/genforce/interfacegan.git $CODE_DIR\u001b[39m\u001b[38;5;124m'\u001b[39m)\n\u001b[0;32m----> 3\u001b[0m os\u001b[38;5;241m.\u001b[39mchdir(\u001b[38;5;124mf\u001b[39m\u001b[38;5;124m'\u001b[39m\u001b[38;5;124m./\u001b[39m\u001b[38;5;132;01m{\u001b[39;00mCODE_DIR\u001b[38;5;132;01m}\u001b[39;00m\u001b[38;5;124m'\u001b[39m)\n\u001b[1;32m      4\u001b[0m get_ipython()\u001b[38;5;241m.\u001b[39msystem(\u001b[38;5;124m'\u001b[39m\u001b[38;5;124mpwd\u001b[39m\u001b[38;5;124m'\u001b[39m)\n",
      "\u001b[0;31mFileNotFoundError\u001b[0m: [Errno 2] No such file or directory: './interfacegan'"
     ]
    }
   ],
   "source": [
    "CODE_DIR = 'interfacegan'\n",
    "!git clone https://github.com/genforce/interfacegan.git $CODE_DIR\n",
    "os.chdir(f'./{CODE_DIR}')\n",
    "!pwd"
   ]
  },
  {
   "cell_type": "code",
   "execution_count": null,
   "metadata": {},
   "outputs": [],
   "source": [
    "def wget(path):\n",
    "    f'wget -P {path}"
   ]
  },
  {
   "cell_type": "code",
   "execution_count": 3,
   "metadata": {},
   "outputs": [],
   "source": [
    "wget = wget(path)"
   ]
  },
  {
   "cell_type": "code",
   "execution_count": 4,
   "metadata": {},
   "outputs": [],
   "source": [
    "!wget https://www.dropbox.com/s/t74z87pk3cf8ny7/pggan_celebahq.pth?dl=1 -O models/pretrain/pggan_celebahq.pth --quiet\n",
    "!wget https://www.dropbox.com/s/nmo2g3u0qt7x70m/stylegan_celebahq.pth?dl=1 -O models/pretrain/stylegan_celebahq.pth --quiet\n",
    "!wget https://www.dropbox.com/s/qyv37eaobnow7fu/stylegan_ffhq.pth?dl=1 -O models/pretrain/stylegan_ffhq.pth --quiet"
   ]
  },
  {
   "cell_type": "code",
   "execution_count": 5,
   "metadata": {},
   "outputs": [],
   "source": [
    "!export CUDA_VISIBLE_DEVICES=0"
   ]
  },
  {
   "cell_type": "markdown",
   "metadata": {},
   "source": [
    "# Import Drive Files (only Colab)"
   ]
  },
  {
   "cell_type": "code",
   "execution_count": 1,
   "metadata": {
    "scrolled": true
   },
   "outputs": [
    {
     "ename": "ModuleNotFoundError",
     "evalue": "No module named 'google'",
     "output_type": "error",
     "traceback": [
      "\u001b[1;31m---------------------------------------------------------------------------\u001b[0m",
      "\u001b[1;31mModuleNotFoundError\u001b[0m                       Traceback (most recent call last)",
      "Cell \u001b[1;32mIn[1], line 1\u001b[0m\n\u001b[1;32m----> 1\u001b[0m \u001b[38;5;28;01mfrom\u001b[39;00m \u001b[38;5;21;01mgoogle\u001b[39;00m\u001b[38;5;21;01m.\u001b[39;00m\u001b[38;5;21;01mcolab\u001b[39;00m \u001b[38;5;28;01mimport\u001b[39;00m drive\n\u001b[0;32m      3\u001b[0m mount_dir \u001b[38;5;241m=\u001b[39m \u001b[38;5;124m'\u001b[39m\u001b[38;5;124m/content/drive\u001b[39m\u001b[38;5;124m'\u001b[39m\n\u001b[0;32m      4\u001b[0m \u001b[38;5;28mdir\u001b[39m \u001b[38;5;241m=\u001b[39m mount_dir \u001b[38;5;241m+\u001b[39m \u001b[38;5;124m'\u001b[39m\u001b[38;5;124m/MyDrive/ONOT-icao-only/ONOT-icao-only\u001b[39m\u001b[38;5;124m'\u001b[39m\n",
      "\u001b[1;31mModuleNotFoundError\u001b[0m: No module named 'google'"
     ]
    }
   ],
   "source": [
    "from google.colab import drive\n",
    "\n",
    "mount_dir = '/content/drive'\n",
    "dir = mount_dir + '/MyDrive/ONOT-icao-only/ONOT-icao-only'\n",
    "drive.mount(mount_dir, force_remount = False)"
   ]
  },
  {
   "cell_type": "markdown",
   "metadata": {},
   "source": [
    "# Import Dataset (only Local files)"
   ]
  },
  {
   "cell_type": "code",
   "execution_count": 17,
   "metadata": {},
   "outputs": [
    {
     "name": "stdout",
     "output_type": "stream",
     "text": [
      "/home/dcaushaj/tir-ONOT/Tir-ONOT/content/interfacegan/interfacegan\n"
     ]
    }
   ],
   "source": [
    "dir = os.path.join(path, 'ONOT-icao-only')\n",
    "wget = wget(dir)\n",
    "!wget https://www.dropbox.com/scl/fo/c3c21xyueq4hea0rl9i3r/ADAbxrcnBOFfkywceUhWi_c?rlkey=jk6gd7emcebomf2v4zzgh1ean&st=fkyhp479&dl=0 --quiet"
   ]
  },
  {
   "cell_type": "markdown",
   "metadata": {},
   "source": [
    "# Models parameters"
   ]
  },
  {
   "cell_type": "code",
   "execution_count": 7,
   "metadata": {},
   "outputs": [],
   "source": [
    "MODEL_POOL2 = {\n",
    "    'pggan_celebahq': {\n",
    "        'tf_model_path': '',\n",
    "        'model_path': dir,\n",
    "        'gan_type': 'pggan',\n",
    "        'dataset_name': 'celebahq',\n",
    "        'latent_space_dim': 512,\n",
    "        'resolution': 1024,\n",
    "        'min_val': -1.0,\n",
    "        'max_val': 1.0,\n",
    "        'output_channels': 3,\n",
    "        'channel_order': 'RGB',\n",
    "        'fused_scale': False,\n",
    "    },\n",
    "    'stylegan_celebahq': {\n",
    "        'tf_model_path':'',\n",
    "        'model_path': dir,\n",
    "        'gan_type': 'stylegan',\n",
    "        'dataset_name': 'celebahq',\n",
    "        'latent_space_dim': 512,\n",
    "        'w_space_dim': 512,\n",
    "        'resolution': 1024,\n",
    "        'min_val': -1.0,\n",
    "        'max_val': 1.0,\n",
    "        'output_channels': 3,\n",
    "        'channel_order': 'RGB',\n",
    "        'fused_scale': 'auto',\n",
    "    },\n",
    "    'stylegan_ffhq': {\n",
    "        'tf_model_path': '',\n",
    "        'model_path': dir,\n",
    "        'gan_type': 'stylegan',\n",
    "        'dataset_name': 'ffhq',\n",
    "        'latent_space_dim': 512,\n",
    "        'w_space_dim': 512,\n",
    "        'resolution': 1024,\n",
    "        'min_val': -1.0,\n",
    "        'max_val': 1.0,\n",
    "        'output_channels': 3,\n",
    "        'channel_order': 'RGB',\n",
    "        'fused_scale': 'auto',\n",
    "    },\n",
    "}"
   ]
  },
  {
   "cell_type": "markdown",
   "metadata": {},
   "source": [
    "# Functions"
   ]
  },
  {
   "cell_type": "code",
   "execution_count": 8,
   "metadata": {},
   "outputs": [],
   "source": [
    "import os.path\n",
    "import io\n",
    "import IPython.display\n",
    "import numpy as np\n",
    "import cv2 as cv\n",
    "import PIL.Image\n",
    "\n",
    "import torch\n",
    "\n",
    "from models.pggan_generator import PGGANGenerator\n",
    "from models.stylegan_generator import StyleGANGenerator\n",
    "from utils.manipulator import linear_interpolate\n",
    "\n",
    "def load_images_from_folder(folder):\n",
    "  images = []\n",
    "  if not os.path.exists(folder):\n",
    "      raise Exception(f'{folder} does not exist')\n",
    "  for filename in os.listdir(folder):\n",
    "      filepath = os.path.join(folder, filename)\n",
    "      img = cv.imread(filepath)\n",
    "      if img is not None:\n",
    "          images.append(cv.cvtColor(img, cv.COLOR_BGR2RGB))\n",
    "  if len(images) == 0:\n",
    "      raise Exception(f\"No images found in {folder}\")\n",
    "  return np.array(images)\n",
    "\n",
    "def build_generator(model_name):\n",
    "  \"\"\"Builds the generator by model name.\"\"\"\n",
    "  gan_type = MODEL_POOL2[model_name]['gan_type']\n",
    "  if gan_type == 'pggan':\n",
    "    generator = PGGANGenerator(model_name)\n",
    "  elif gan_type == 'stylegan':\n",
    "    generator = StyleGANGenerator(model_name)\n",
    "  return generator\n",
    "\n",
    "\n",
    "def sample_codes(generator, num, latent_space_type='Z', seed=0):\n",
    "  \"\"\"Samples latent codes randomly.\"\"\"\n",
    "  np.random.seed(seed)\n",
    "  codes = generator.easy_sample(num)\n",
    "  if generator.gan_type == 'stylegan' and latent_space_type == 'W':\n",
    "    codes = torch.from_numpy(codes).type(torch.FloatTensor).to(generator.run_device)\n",
    "    codes = generator.get_value(generator.model.mapping(codes))\n",
    "  return codes\n",
    "\n",
    "\n",
    "def imshow(images, col, viz_size=256):\n",
    "    \"\"\"Shows images in one figure.\"\"\"\n",
    "    num, height, width, channels = images.shape\n",
    "    assert num % col == 0, \"num % col != 0\"\n",
    "    row = num // col\n",
    "\n",
    "    fused_image = np.zeros((viz_size * row, viz_size * col, channels), dtype=np.uint8)\n",
    "\n",
    "    for idx, image in enumerate(images):\n",
    "        i, j = divmod(idx, col)\n",
    "        y = i * viz_size\n",
    "        x = j * viz_size\n",
    "        if height != viz_size or width != viz_size:\n",
    "            image = cv.resize(image, (viz_size, viz_size))\n",
    "        fused_image[y:y + viz_size, x:x + viz_size] = image\n",
    "\n",
    "    fused_image = np.asarray(fused_image, dtype=np.uint8)\n",
    "    data = io.BytesIO()\n",
    "    PIL.Image.fromarray(fused_image).save(data, 'jpeg')\n",
    "    im_data = data.getvalue()\n",
    "    disp = IPython.display.display(IPython.display.Image(im_data))\n",
    "    return disp\n",
    "\n",
    "def load_images_as_latent_codes(generator):\n",
    "    latent_codes = sample_codes(generator, len(images), latent_space_type, noise_seed)\n",
    "    print(noise_seed)\n",
    "    return latent_codes, images\n",
    "\n",
    "def load_boundaries(model_name, latent_space_type):\n",
    "    ATTRS = ['age', 'eyeglasses', 'gender', 'pose', 'smile']\n",
    "    boundaries = {}\n",
    "    for attr_name in ATTRS:\n",
    "        boundary_name = f'{model_name}_{attr_name}'\n",
    "        if generator.gan_type == 'stylegan' and latent_space_type == 'W':\n",
    "            boundaries[attr_name] = np.load(f'boundaries/{boundary_name}_w_boundary.npy')\n",
    "        else:\n",
    "            boundaries[attr_name] = np.load(f'boundaries/{boundary_name}_boundary.npy')\n",
    "    return boundaries"
   ]
  },
  {
   "cell_type": "markdown",
   "metadata": {},
   "source": [
    "# Select a model"
   ]
  },
  {
   "cell_type": "code",
   "execution_count": 9,
   "metadata": {},
   "outputs": [
    {
     "name": "stdout",
     "output_type": "stream",
     "text": [
      "[2024-07-22 15:49:18,357][INFO] Loading pytorch model from `models/pretrain/pggan_celebahq.pth`.\n",
      "[2024-07-22 15:49:18,441][INFO] Successfully loaded!\n",
      "[2024-07-22 15:49:18,443][INFO]   `lod` of the loaded model is 0.0.\n"
     ]
    }
   ],
   "source": [
    "#@title { display-mode: \"form\", run: \"auto\" }\n",
    "model_name = \"pggan_celebahq\" #@param ['pggan_celebahq','stylegan_celebahq', 'stylegan_ffhq']\n",
    "latent_space_type = \"W\" #@param ['Z', 'W']\n",
    "\n",
    "generator = build_generator(model_name)\n",
    "boundaries = load_boundaries(model_name, latent_space_type)"
   ]
  },
  {
   "cell_type": "markdown",
   "metadata": {},
   "source": [
    "# Load Images"
   ]
  },
  {
   "cell_type": "code",
   "execution_count": 10,
   "metadata": {},
   "outputs": [
    {
     "ename": "Exception",
     "evalue": "/home/dcaushaj/tir-ONOT/Tir-ONOT/content/ONOT-icao-only does not exist",
     "output_type": "error",
     "traceback": [
      "\u001b[0;31m---------------------------------------------------------------------------\u001b[0m",
      "\u001b[0;31mException\u001b[0m                                 Traceback (most recent call last)",
      "Cell \u001b[0;32mIn[10], line 1\u001b[0m\n\u001b[0;32m----> 1\u001b[0m images \u001b[38;5;241m=\u001b[39m load_images_from_folder(\u001b[38;5;28mdir\u001b[39m)\n",
      "Cell \u001b[0;32mIn[8], line 17\u001b[0m, in \u001b[0;36mload_images_from_folder\u001b[0;34m(folder)\u001b[0m\n\u001b[1;32m     15\u001b[0m images \u001b[38;5;241m=\u001b[39m []\n\u001b[1;32m     16\u001b[0m \u001b[38;5;28;01mif\u001b[39;00m \u001b[38;5;129;01mnot\u001b[39;00m os\u001b[38;5;241m.\u001b[39mpath\u001b[38;5;241m.\u001b[39mexists(folder):\n\u001b[0;32m---> 17\u001b[0m     \u001b[38;5;28;01mraise\u001b[39;00m \u001b[38;5;167;01mException\u001b[39;00m(\u001b[38;5;124mf\u001b[39m\u001b[38;5;124m'\u001b[39m\u001b[38;5;132;01m{\u001b[39;00mfolder\u001b[38;5;132;01m}\u001b[39;00m\u001b[38;5;124m does not exist\u001b[39m\u001b[38;5;124m'\u001b[39m)\n\u001b[1;32m     18\u001b[0m \u001b[38;5;28;01mfor\u001b[39;00m filename \u001b[38;5;129;01min\u001b[39;00m os\u001b[38;5;241m.\u001b[39mlistdir(folder):\n\u001b[1;32m     19\u001b[0m     filepath \u001b[38;5;241m=\u001b[39m os\u001b[38;5;241m.\u001b[39mpath\u001b[38;5;241m.\u001b[39mjoin(folder, filename)\n",
      "\u001b[0;31mException\u001b[0m: /home/dcaushaj/tir-ONOT/Tir-ONOT/content/ONOT-icao-only does not exist"
     ]
    }
   ],
   "source": [
    "images = load_images_from_folder(dir)"
   ]
  },
  {
   "cell_type": "markdown",
   "metadata": {},
   "source": [
    "# Sample latent codes"
   ]
  },
  {
   "cell_type": "code",
   "execution_count": null,
   "metadata": {},
   "outputs": [],
   "source": [
    "#@title { display-mode: \"form\", run: \"auto\" }\n",
    "\n",
    "num_samples = 4 #@param {type:\"slider\", min:1, max:8, step:1}\n",
    "noise_seed = 2 #@param {type:\"slider\", min:0, max:87, step:1}\n",
    "\n",
    "latent_codes, sampled_images = load_images_as_latent_codes(generator)\n",
    "#firstL = latent_codes[noise_seed*num_samples:noise_seed*num_samples+num_samples]\n",
    "imshow(sampled_images[noise_seed*num_samples:noise_seed*num_samples+num_samples], col=num_samples)"
   ]
  },
  {
   "cell_type": "markdown",
   "metadata": {},
   "source": [
    "# Edit facial attributes"
   ]
  },
  {
   "cell_type": "code",
   "execution_count": null,
   "metadata": {},
   "outputs": [],
   "source": [
    "#@title { display-mode: \"form\", run: \"auto\" }\n",
    "\n",
    "age = 0.5 #@param {type:\"slider\", min:-3.0, max:3.0, step:0.1}\n",
    "eyeglasses = 3 #@param {type:\"slider\", min:-2.9, max:3.0, step:0.1}\n",
    "gender = -2.1 #@param {type:\"slider\", min:-3.0, max:3.0, step:0.1}\n",
    "pose = -2.1 #@param {type:\"slider\", min:-3.0, max:3.0, step:0.1}\n",
    "smile = 0.9 #@param {type:\"slider\", min:-3.0, max:3.0, step:0.1}\n",
    "\n",
    "modifications = {\n",
    "        'age': age,\n",
    "        'eyeglasses': eyeglasses,\n",
    "        'gender': gender,\n",
    "        'pose': pose,\n",
    "        'smile': smile\n",
    "    }\n",
    "\n",
    "new_codes = latent_codes.copy()\n",
    "#secL = new_codes[noise_seed*num_samples:noise_seed*num_samples+num_samples]\n",
    "#print(firstL == secL)\n",
    "\n",
    "for attr_name, value in modifications.items():\n",
    "    new_codes += boundaries[attr_name] * value\n",
    "\n",
    "if generator.gan_type == 'stylegan' and latent_space_type == 'W':\n",
    "    synthesis_kwargs = {'latent_space_type': 'W'}\n",
    "else:\n",
    "    synthesis_kwargs = {}\n",
    "\n",
    "# Synthesize images with modified latent codes\n",
    "new_images = generator.easy_synthesize(new_codes[noise_seed*num_samples:noise_seed*num_samples+num_samples],\n",
    "                                       **synthesis_kwargs)['image']\n",
    "\n",
    "imshow(new_images, col=len(new_images))"
   ]
  }
 ],
 "metadata": {
  "kernelspec": {
   "display_name": "Python 3 (ipykernel)",
   "language": "python",
   "name": "python3"
  },
  "language_info": {
   "codemirror_mode": {
    "name": "ipython",
    "version": 3
   },
   "file_extension": ".py",
   "mimetype": "text/x-python",
   "name": "python",
   "nbconvert_exporter": "python",
   "pygments_lexer": "ipython3",
   "version": "3.11.9"
  }
 },
 "nbformat": 4,
 "nbformat_minor": 4
}
